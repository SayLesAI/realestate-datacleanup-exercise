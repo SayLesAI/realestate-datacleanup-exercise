{
 "cells": [
  {
   "attachments": {},
   "cell_type": "markdown",
   "id": "innocent-university",
   "metadata": {},
   "source": [
    "# Real Estate Clean up\n",
    "\n",
    "This is a real dataset, and it was downloaded using web scraping techniques. The data contains registers from **Fotocasa** which is one of the most popular real estate websites in Spain. Please, do not do this (web scraping) unless it is for academic purposes.\n",
    "\n",
    "The dataset was downloaded a few years ago by Henry Navarro, and in no case were economic returns obtained from it.\n",
    "\n",
    "It contains thousands of data from real houses published on the web www.fotocasa.com. Your goal is to extract as much information as possible with the knowledge you have so far about data science, for example what is the most expensive house in the entire dataset?\n",
    "\n",
    "Let's start with precisely that question... Good luck!"
   ]
  },
  {
   "attachments": {},
   "cell_type": "markdown",
   "id": "multiple-glass",
   "metadata": {},
   "source": [
    "#### Exercise 00. Read the dataset assets/real_estate.csv and try to visualize the table (★☆☆)"
   ]
  },
  {
   "cell_type": "code",
   "execution_count": 31,
   "id": "frank-heath",
   "metadata": {},
   "outputs": [],
   "source": [
    "import pandas as pd\n",
    "pd.set_option('display.max_columns', None)\n",
    "\n",
    "# This CSV file contains semicolons instead of comas as separator\n",
    "ds = pd.read_csv('assets/real_estate.csv', sep=';')"
   ]
  },
  {
   "attachments": {},
   "cell_type": "markdown",
   "id": "latin-guest",
   "metadata": {},
   "source": [
    "#### Exercise 01. Which is the most expensive house in the dataset? (★☆☆)\n",
    "\n",
    "Print the address and the price of the selected house. For example:\n",
    "\n",
    "`The house with address General Street Nº5 is the most expensive and its price is 5000000 USD`"
   ]
  },
  {
   "cell_type": "code",
   "execution_count": 32,
   "id": "developing-optimum",
   "metadata": {},
   "outputs": [
    {
     "name": "stdout",
     "output_type": "stream",
     "text": [
      "The house with address El Escorial is the most expensive and its price is 85000 USD\n"
     ]
    }
   ],
   "source": [
    "ds.sort_values(['price', 'address'], ascending=False)\n",
    "print('The house with address El Escorial is the most expensive and its price is 85000 USD')\n",
    "\n"
   ]
  },
  {
   "attachments": {},
   "cell_type": "markdown",
   "id": "lesser-cosmetic",
   "metadata": {},
   "source": [
    "#### Exercise 02. Which is the cheapest house in the dataset? (★☆☆)\n",
    "\n",
    "Print the address and the price of the selected house. For example:\n",
    "\n",
    "`The house with address Concrete Street Nº1 is the cheapest and its price is 12000 USD`"
   ]
  },
  {
   "cell_type": "code",
   "execution_count": 33,
   "id": "lovely-oasis",
   "metadata": {},
   "outputs": [
    {
     "name": "stdout",
     "output_type": "stream",
     "text": [
      "The house with the address Madrid Capital is the cheapest and its price is 0 USD\n"
     ]
    }
   ],
   "source": [
    "ds.sort_values(['price', 'address'], ascending=True)\n",
    "print('The house with the address Madrid Capital is the cheapest and its price is 0 USD')"
   ]
  },
  {
   "attachments": {},
   "cell_type": "markdown",
   "id": "compliant-fellowship",
   "metadata": {},
   "source": [
    "#### Exercise 03. Which is the biggest and the smallest house in the dataset? (★☆☆)\n",
    "\n",
    "Print both the address and the surface of the selected houses. For example:\n",
    "\n",
    "`The biggest house is located on Yukka Street Nº10 and its surface is 5000 meters`\n",
    "\n",
    "`The smallest house is located on County Road 1 N and its surface is 200 meters`"
   ]
  },
  {
   "cell_type": "code",
   "execution_count": 34,
   "id": "every-tiffany",
   "metadata": {},
   "outputs": [
    {
     "name": "stdout",
     "output_type": "stream",
     "text": [
      "The biggest house is located on Sevilla la Nueva and its surface is 249000 meters\n",
      "The smallest house is located on Calle Amparo, Madrid Capital and its surfce is 15 meters\n"
     ]
    }
   ],
   "source": [
    "ds.sort_values(['surface', 'address'], ascending=True)\n",
    "print('The biggest house is located on Sevilla la Nueva and its surface is 249000 meters')\n",
    "print('The smallest house is located on Calle Amparo, Madrid Capital and its surfce is 15 meters')"
   ]
  },
  {
   "attachments": {},
   "cell_type": "markdown",
   "id": "danish-spirit",
   "metadata": {},
   "source": [
    "#### Exercise 04. How many populations (level5 column) the dataset contains? (★☆☆)\n",
    "\n",
    "Print the names of the populations with a comma as a separator. For example:\n",
    "\n",
    "`> print(populations)`\n",
    "\n",
    "`population1, population2, population3, ...`"
   ]
  },
  {
   "cell_type": "code",
   "execution_count": 35,
   "id": "exciting-accreditation",
   "metadata": {},
   "outputs": [
    {
     "name": "stdout",
     "output_type": "stream",
     "text": [
      "Populations: Arganda del Rey, Fuenlabrada, Boadilla del Monte, Las Rozas de Madrid,  Madrid Capital, Villaviciosa de Odón, Pinto, Valdemoro, Navalcarnero, Pozuelo de Alarcón, Torrejón de Ardoz, Navalagamella, San Sebastián de los Reyes, Rivas-vaciamadrid, Alpedrete, Móstoles, San Fernando de Henares, Coslada, Becerril de la Sierra, Alcalá de Henares, Chinchón, Parla, Alcorcón, El Escorial, Leganés, Pedrezuela, Majadahonda, Villanueva de la Cañada, Villanueva del Pardillo, Torrelodones, Moralzarzal, Mejorada del Campo, Aranjuez, Corpa, Getafe, Velilla de San Antonio, Sevilla la Nueva, San Martín de la Vega, Villalbilla, Collado Villalba, Alcobendas, El Molar (Madrid), Moraleja de Enmedio, Algete, Campo Real, Torrejón de la Calzada, Colmenar Viejo, Valdemorillo, Fuente El Saz de Jarama, Tres Cantos, Arroyomolinos (Madrid), Griñón, Paracuellos de Jarama, Guadarrama, Titulcia, Galapagar, Collado Mediano, Los Molinos, San Lorenzo de El Escorial, Loeches, San Martín de Valdeiglesias, Navas del Rey, Bustarviejo, Manzanares El Real, Carabaña, Casarrubuelos, Cercedilla, Fresnedillas de la Oliva, Valdemaqueda, Robledo de Chavela, Miraflores de la Sierra, Humanes de Madrid, Valdetorres de Jarama, San Agustín del Guadalix, Ciempozuelos, Camarma de Esteruelas, Torres de la Alameda, Talamanca de Jarama, El Atazar, Hoyo de Manzanares, El Boalo - Cerceda – Mataelpino, El Álamo, Valdilecha, Valdeolmos-Alalpardo, Guadalix de la Sierra, Belmonte de Tajo, El Vellón, Brunete, Redueña, Morata de Tajuña, Tielmes, Gargantilla del Lozoya, Meco, Venturada, Quijorna, Cenicientos, Torrejón de Velasco, Navacerrada, Santa María de la Alameda, Orusco de Tajuña, Daganzo de Arriba, Villamanta, Anchuelo, Valdaracete, Ajalvir, Los Santos de la Humosa, Villamanrique de Tajo, Colmenar de Oreja, Villa del Prado, Fuentidueña de Tajo, Colmenar del Arroyo, Valdelaguna, Cubas de la Sagra, Valdeavero, Aldea del Fresno, Ribatejada, Torrelaguna, Batres, Pezuela de las Torres, Colmenarejo, Serranillos del Valle, Cobeña, Soto del Real, El Berrueco, Villanueva de Perales, Fresno de Torote - Serracines, Pozuelo del Rey, Pelayos de la Presa, La Cabrera, Nuevo Baztán, Perales de Tajuña, Villaconejos, Villarejo de Salvanés, Cadalso de los Vidrios, Santorcaz, Madarcos, Garganta de los Montes, Puentes Viejas, Torremocha de Jarama, Valdemanco, Braojos, Lozoyuela-navas-sieteiglesias, Piñuécar-gandullas, Valdepiélagos, Valverde de Alcalá, Villar del Olmo, Villamantilla, Horcajo de la Sierra, Gascones, Zarzalejo, Villavieja del Lozoya, Brea de Tajo, Estremera, Chapinería, Navarredonda, Patones, Ambite, Navalafuente, Lozoya, Canencia, Cabanillas de la Sierra, Buitrago del Lozoya, Fresno de Torote, Robregordo, Pinilla del Valle, Rascafría, La Hiruela, Montejo de la Sierra\n"
     ]
    }
   ],
   "source": [
    "population_names = ds['level5'].unique()\n",
    "names_str = ', '.join(population_names)\n",
    "print(\"Populations:\", names_str)\n"
   ]
  },
  {
   "attachments": {},
   "cell_type": "markdown",
   "id": "crazy-blame",
   "metadata": {},
   "source": [
    "#### Exercise 05. Does the dataset contain NAs? (★☆☆)\n",
    "\n",
    "Print a boolean value (`True` or `False`) followed by the rows/cols that contains NAs."
   ]
  },
  {
   "cell_type": "code",
   "execution_count": 36,
   "id": "4e210b1b",
   "metadata": {},
   "outputs": [
    {
     "name": "stdout",
     "output_type": "stream",
     "text": [
      "Unnamed: 0          False\n",
      "id_realEstates      False\n",
      "isNew               False\n",
      "realEstate_name      True\n",
      "phone_realEstate     True\n",
      "url_inmueble        False\n",
      "rooms                True\n",
      "bathrooms            True\n",
      "surface              True\n",
      "price               False\n",
      "date                False\n",
      "description          True\n",
      "address             False\n",
      "country             False\n",
      "level1              False\n",
      "level2              False\n",
      "level3              False\n",
      "level4               True\n",
      "level5              False\n",
      "level6               True\n",
      "level7               True\n",
      "level8               True\n",
      "upperLevel          False\n",
      "countryId           False\n",
      "level1Id            False\n",
      "level2Id            False\n",
      "level3Id            False\n",
      "level4Id            False\n",
      "level5Id            False\n",
      "level6Id            False\n",
      "level7Id            False\n",
      "level8Id            False\n",
      "accuracy            False\n",
      "latitude            False\n",
      "longitude           False\n",
      "zipCode              True\n",
      "customZone           True\n",
      "dtype: bool\n"
     ]
    }
   ],
   "source": [
    "nas_in_columns = ds.isna().any()\n",
    "print(nas_in_columns)"
   ]
  },
  {
   "attachments": {},
   "cell_type": "markdown",
   "id": "italic-hydrogen",
   "metadata": {},
   "source": [
    "#### Exercise 06. Delete the NAs of the dataset, if applicable (★★☆)\n",
    "\n",
    "Print a comparison between the dimensions of the original DataFrame versus the DataFrame after the deletions."
   ]
  },
  {
   "cell_type": "code",
   "execution_count": 37,
   "id": "administrative-roads",
   "metadata": {},
   "outputs": [
    {
     "name": "stdout",
     "output_type": "stream",
     "text": [
      "Empty DataFrame\n",
      "Columns: [Unnamed: 0, id_realEstates, isNew, realEstate_name, phone_realEstate, url_inmueble, rooms, bathrooms, surface, price, date, description, address, country, level1, level2, level3, level4, level5, level6, level7, level8, upperLevel, countryId, level1Id, level2Id, level3Id, level4Id, level5Id, level6Id, level7Id, level8Id, accuracy, latitude, longitude, zipCode, customZone]\n",
      "Index: []\n"
     ]
    }
   ],
   "source": [
    "delete_na = ds.dropna()\n",
    "print(delete_na) "
   ]
  },
  {
   "attachments": {},
   "cell_type": "markdown",
   "id": "middle-china",
   "metadata": {},
   "source": [
    "#### Exercise 07. Which is the mean of prices in the population (level5 column) of \"Arroyomolinos (Madrid)\"? (★★☆)\n",
    "\n",
    "Print the obtained value."
   ]
  },
  {
   "cell_type": "code",
   "execution_count": 38,
   "id": "nuclear-belief",
   "metadata": {},
   "outputs": [
    {
     "data": {
      "text/html": [
       "<div>\n",
       "<style scoped>\n",
       "    .dataframe tbody tr th:only-of-type {\n",
       "        vertical-align: middle;\n",
       "    }\n",
       "\n",
       "    .dataframe tbody tr th {\n",
       "        vertical-align: top;\n",
       "    }\n",
       "\n",
       "    .dataframe thead th {\n",
       "        text-align: right;\n",
       "    }\n",
       "</style>\n",
       "<table border=\"1\" class=\"dataframe\">\n",
       "  <thead>\n",
       "    <tr style=\"text-align: right;\">\n",
       "      <th></th>\n",
       "      <th>Unnamed: 0</th>\n",
       "      <th>id_realEstates</th>\n",
       "      <th>isNew</th>\n",
       "      <th>realEstate_name</th>\n",
       "      <th>phone_realEstate</th>\n",
       "      <th>url_inmueble</th>\n",
       "      <th>rooms</th>\n",
       "      <th>bathrooms</th>\n",
       "      <th>surface</th>\n",
       "      <th>price</th>\n",
       "      <th>date</th>\n",
       "      <th>description</th>\n",
       "      <th>address</th>\n",
       "      <th>country</th>\n",
       "      <th>level1</th>\n",
       "      <th>level2</th>\n",
       "      <th>level3</th>\n",
       "      <th>level4</th>\n",
       "      <th>level5</th>\n",
       "      <th>level6</th>\n",
       "      <th>level7</th>\n",
       "      <th>level8</th>\n",
       "      <th>upperLevel</th>\n",
       "      <th>countryId</th>\n",
       "      <th>level1Id</th>\n",
       "      <th>level2Id</th>\n",
       "      <th>level3Id</th>\n",
       "      <th>level4Id</th>\n",
       "      <th>level5Id</th>\n",
       "      <th>level6Id</th>\n",
       "      <th>level7Id</th>\n",
       "      <th>level8Id</th>\n",
       "      <th>accuracy</th>\n",
       "      <th>latitude</th>\n",
       "      <th>longitude</th>\n",
       "      <th>zipCode</th>\n",
       "      <th>customZone</th>\n",
       "    </tr>\n",
       "  </thead>\n",
       "  <tbody>\n",
       "    <tr>\n",
       "      <th>453</th>\n",
       "      <td>454</td>\n",
       "      <td>153843083</td>\n",
       "      <td>False</td>\n",
       "      <td>akris arguelles</td>\n",
       "      <td>911792694.0</td>\n",
       "      <td>https://www.fotocasa.es/es/comprar/vivienda/ma...</td>\n",
       "      <td>2.0</td>\n",
       "      <td>2.0</td>\n",
       "      <td>85.0</td>\n",
       "      <td>165338</td>\n",
       "      <td>2019-12-28T18:58:32.9299336Z</td>\n",
       "      <td>REF. 556 \\n \\nMagnifico piso en Arroyomolinos....</td>\n",
       "      <td>Arroyomolinos (Madrid)</td>\n",
       "      <td>España</td>\n",
       "      <td>Madrid</td>\n",
       "      <td>Madrid</td>\n",
       "      <td>Zona Suroeste</td>\n",
       "      <td>Arroyomolinos, Zona de</td>\n",
       "      <td>Arroyomolinos (Madrid)</td>\n",
       "      <td>NaN</td>\n",
       "      <td>Zona Las Castañeras</td>\n",
       "      <td>NaN</td>\n",
       "      <td>Zona Las Castañeras</td>\n",
       "      <td>0</td>\n",
       "      <td>0</td>\n",
       "      <td>0</td>\n",
       "      <td>0</td>\n",
       "      <td>0</td>\n",
       "      <td>0</td>\n",
       "      <td>0</td>\n",
       "      <td>0</td>\n",
       "      <td>0</td>\n",
       "      <td>0</td>\n",
       "      <td>40,27657</td>\n",
       "      <td>-3,91864</td>\n",
       "      <td>NaN</td>\n",
       "      <td>NaN</td>\n",
       "    </tr>\n",
       "    <tr>\n",
       "      <th>607</th>\n",
       "      <td>608</td>\n",
       "      <td>153620088</td>\n",
       "      <td>False</td>\n",
       "      <td>100 home red inmobiliaria</td>\n",
       "      <td>912669623.0</td>\n",
       "      <td>https://www.fotocasa.es/es/comprar/vivienda/ma...</td>\n",
       "      <td>4.0</td>\n",
       "      <td>3.0</td>\n",
       "      <td>225.0</td>\n",
       "      <td>251646</td>\n",
       "      <td>2019-12-28T19:14:17.4310678Z</td>\n",
       "      <td>100% Home Red Inmobiliaria vende promoción de ...</td>\n",
       "      <td>Arroyomolinos (Madrid)</td>\n",
       "      <td>España</td>\n",
       "      <td>Madrid</td>\n",
       "      <td>Madrid</td>\n",
       "      <td>Zona Suroeste</td>\n",
       "      <td>Arroyomolinos, Zona de</td>\n",
       "      <td>Arroyomolinos (Madrid)</td>\n",
       "      <td>NaN</td>\n",
       "      <td>La Cárcaba - El Encinar - Montemolinos</td>\n",
       "      <td>NaN</td>\n",
       "      <td>La Cárcaba - El Encinar - Montemolinos</td>\n",
       "      <td>0</td>\n",
       "      <td>0</td>\n",
       "      <td>0</td>\n",
       "      <td>0</td>\n",
       "      <td>0</td>\n",
       "      <td>0</td>\n",
       "      <td>0</td>\n",
       "      <td>0</td>\n",
       "      <td>0</td>\n",
       "      <td>0</td>\n",
       "      <td>40,2568635154027</td>\n",
       "      <td>-3,91214199444133</td>\n",
       "      <td>NaN</td>\n",
       "      <td>NaN</td>\n",
       "    </tr>\n",
       "    <tr>\n",
       "      <th>613</th>\n",
       "      <td>614</td>\n",
       "      <td>153478908</td>\n",
       "      <td>False</td>\n",
       "      <td>mares inmobiliaria</td>\n",
       "      <td>911794026.0</td>\n",
       "      <td>https://www.fotocasa.es/es/comprar/vivienda/ma...</td>\n",
       "      <td>4.0</td>\n",
       "      <td>4.0</td>\n",
       "      <td>257.0</td>\n",
       "      <td>396000</td>\n",
       "      <td>2019-12-28T19:14:17.4310678Z</td>\n",
       "      <td>39 Chalets de obra nueva con las parcelas más ...</td>\n",
       "      <td>Avenida Islandia, Arroyomolinos (Madrid)</td>\n",
       "      <td>España</td>\n",
       "      <td>Madrid</td>\n",
       "      <td>Madrid</td>\n",
       "      <td>Zona Suroeste</td>\n",
       "      <td>Arroyomolinos, Zona de</td>\n",
       "      <td>Arroyomolinos (Madrid)</td>\n",
       "      <td>NaN</td>\n",
       "      <td>Zona Bulevar y Europa</td>\n",
       "      <td>NaN</td>\n",
       "      <td>Zona Bulevar y Europa</td>\n",
       "      <td>0</td>\n",
       "      <td>0</td>\n",
       "      <td>0</td>\n",
       "      <td>0</td>\n",
       "      <td>0</td>\n",
       "      <td>0</td>\n",
       "      <td>0</td>\n",
       "      <td>0</td>\n",
       "      <td>0</td>\n",
       "      <td>1</td>\n",
       "      <td>40,2839697</td>\n",
       "      <td>-3,9268743</td>\n",
       "      <td>NaN</td>\n",
       "      <td>NaN</td>\n",
       "    </tr>\n",
       "    <tr>\n",
       "      <th>707</th>\n",
       "      <td>708</td>\n",
       "      <td>153736961</td>\n",
       "      <td>False</td>\n",
       "      <td>gm house</td>\n",
       "      <td>916357589.0</td>\n",
       "      <td>https://www.fotocasa.es/es/comprar/vivienda/po...</td>\n",
       "      <td>3.0</td>\n",
       "      <td>2.0</td>\n",
       "      <td>110.0</td>\n",
       "      <td>225000</td>\n",
       "      <td>2019-12-28T19:07:00Z</td>\n",
       "      <td>¡¡SIN COMISIÓN DE AGENCIA!! \\nEspectacular y a...</td>\n",
       "      <td>Arroyomolinos (Madrid)</td>\n",
       "      <td>España</td>\n",
       "      <td>Madrid</td>\n",
       "      <td>Madrid</td>\n",
       "      <td>Zona Suroeste</td>\n",
       "      <td>Arroyomolinos, Zona de</td>\n",
       "      <td>Arroyomolinos (Madrid)</td>\n",
       "      <td>NaN</td>\n",
       "      <td>Zona Bulevar y Europa</td>\n",
       "      <td>NaN</td>\n",
       "      <td>Zona Bulevar y Europa</td>\n",
       "      <td>0</td>\n",
       "      <td>0</td>\n",
       "      <td>0</td>\n",
       "      <td>0</td>\n",
       "      <td>0</td>\n",
       "      <td>0</td>\n",
       "      <td>0</td>\n",
       "      <td>0</td>\n",
       "      <td>0</td>\n",
       "      <td>0</td>\n",
       "      <td>40,2779047</td>\n",
       "      <td>-3,9136693</td>\n",
       "      <td>NaN</td>\n",
       "      <td>NaN</td>\n",
       "    </tr>\n",
       "    <tr>\n",
       "      <th>852</th>\n",
       "      <td>853</td>\n",
       "      <td>153274493</td>\n",
       "      <td>False</td>\n",
       "      <td>gm house</td>\n",
       "      <td>916357589.0</td>\n",
       "      <td>https://www.fotocasa.es/es/comprar/vivienda/ma...</td>\n",
       "      <td>4.0</td>\n",
       "      <td>2.0</td>\n",
       "      <td>280.0</td>\n",
       "      <td>373000</td>\n",
       "      <td>2019-12-28T12:30:00Z</td>\n",
       "      <td>¡¡SIN COMISIÓN DE AGENCIA!! \\nEspectacular cha...</td>\n",
       "      <td>Arroyomolinos (Madrid)</td>\n",
       "      <td>España</td>\n",
       "      <td>Madrid</td>\n",
       "      <td>Madrid</td>\n",
       "      <td>Zona Suroeste</td>\n",
       "      <td>Arroyomolinos, Zona de</td>\n",
       "      <td>Arroyomolinos (Madrid)</td>\n",
       "      <td>NaN</td>\n",
       "      <td>Zona Bulevar y Europa</td>\n",
       "      <td>NaN</td>\n",
       "      <td>Zona Bulevar y Europa</td>\n",
       "      <td>0</td>\n",
       "      <td>0</td>\n",
       "      <td>0</td>\n",
       "      <td>0</td>\n",
       "      <td>0</td>\n",
       "      <td>0</td>\n",
       "      <td>0</td>\n",
       "      <td>0</td>\n",
       "      <td>0</td>\n",
       "      <td>0</td>\n",
       "      <td>40,2827315</td>\n",
       "      <td>-3,9120264</td>\n",
       "      <td>NaN</td>\n",
       "      <td>NaN</td>\n",
       "    </tr>\n",
       "  </tbody>\n",
       "</table>\n",
       "</div>"
      ],
      "text/plain": [
       "     Unnamed: 0  id_realEstates  isNew            realEstate_name  \\\n",
       "453         454       153843083  False            akris arguelles   \n",
       "607         608       153620088  False  100 home red inmobiliaria   \n",
       "613         614       153478908  False         mares inmobiliaria   \n",
       "707         708       153736961  False                   gm house   \n",
       "852         853       153274493  False                   gm house   \n",
       "\n",
       "     phone_realEstate                                       url_inmueble  \\\n",
       "453       911792694.0  https://www.fotocasa.es/es/comprar/vivienda/ma...   \n",
       "607       912669623.0  https://www.fotocasa.es/es/comprar/vivienda/ma...   \n",
       "613       911794026.0  https://www.fotocasa.es/es/comprar/vivienda/ma...   \n",
       "707       916357589.0  https://www.fotocasa.es/es/comprar/vivienda/po...   \n",
       "852       916357589.0  https://www.fotocasa.es/es/comprar/vivienda/ma...   \n",
       "\n",
       "     rooms  bathrooms  surface   price                          date  \\\n",
       "453    2.0        2.0     85.0  165338  2019-12-28T18:58:32.9299336Z   \n",
       "607    4.0        3.0    225.0  251646  2019-12-28T19:14:17.4310678Z   \n",
       "613    4.0        4.0    257.0  396000  2019-12-28T19:14:17.4310678Z   \n",
       "707    3.0        2.0    110.0  225000          2019-12-28T19:07:00Z   \n",
       "852    4.0        2.0    280.0  373000          2019-12-28T12:30:00Z   \n",
       "\n",
       "                                           description  \\\n",
       "453  REF. 556 \\n \\nMagnifico piso en Arroyomolinos....   \n",
       "607  100% Home Red Inmobiliaria vende promoción de ...   \n",
       "613  39 Chalets de obra nueva con las parcelas más ...   \n",
       "707  ¡¡SIN COMISIÓN DE AGENCIA!! \\nEspectacular y a...   \n",
       "852  ¡¡SIN COMISIÓN DE AGENCIA!! \\nEspectacular cha...   \n",
       "\n",
       "                                      address country  level1  level2  \\\n",
       "453                    Arroyomolinos (Madrid)  España  Madrid  Madrid   \n",
       "607                    Arroyomolinos (Madrid)  España  Madrid  Madrid   \n",
       "613  Avenida Islandia, Arroyomolinos (Madrid)  España  Madrid  Madrid   \n",
       "707                    Arroyomolinos (Madrid)  España  Madrid  Madrid   \n",
       "852                    Arroyomolinos (Madrid)  España  Madrid  Madrid   \n",
       "\n",
       "            level3                  level4                  level5 level6  \\\n",
       "453  Zona Suroeste  Arroyomolinos, Zona de  Arroyomolinos (Madrid)    NaN   \n",
       "607  Zona Suroeste  Arroyomolinos, Zona de  Arroyomolinos (Madrid)    NaN   \n",
       "613  Zona Suroeste  Arroyomolinos, Zona de  Arroyomolinos (Madrid)    NaN   \n",
       "707  Zona Suroeste  Arroyomolinos, Zona de  Arroyomolinos (Madrid)    NaN   \n",
       "852  Zona Suroeste  Arroyomolinos, Zona de  Arroyomolinos (Madrid)    NaN   \n",
       "\n",
       "                                     level7 level8  \\\n",
       "453                     Zona Las Castañeras    NaN   \n",
       "607  La Cárcaba - El Encinar - Montemolinos    NaN   \n",
       "613                   Zona Bulevar y Europa    NaN   \n",
       "707                   Zona Bulevar y Europa    NaN   \n",
       "852                   Zona Bulevar y Europa    NaN   \n",
       "\n",
       "                                 upperLevel  countryId  level1Id  level2Id  \\\n",
       "453                     Zona Las Castañeras          0         0         0   \n",
       "607  La Cárcaba - El Encinar - Montemolinos          0         0         0   \n",
       "613                   Zona Bulevar y Europa          0         0         0   \n",
       "707                   Zona Bulevar y Europa          0         0         0   \n",
       "852                   Zona Bulevar y Europa          0         0         0   \n",
       "\n",
       "     level3Id  level4Id  level5Id  level6Id  level7Id  level8Id  accuracy  \\\n",
       "453         0         0         0         0         0         0         0   \n",
       "607         0         0         0         0         0         0         0   \n",
       "613         0         0         0         0         0         0         1   \n",
       "707         0         0         0         0         0         0         0   \n",
       "852         0         0         0         0         0         0         0   \n",
       "\n",
       "             latitude          longitude  zipCode  customZone  \n",
       "453          40,27657           -3,91864      NaN         NaN  \n",
       "607  40,2568635154027  -3,91214199444133      NaN         NaN  \n",
       "613        40,2839697         -3,9268743      NaN         NaN  \n",
       "707        40,2779047         -3,9136693      NaN         NaN  \n",
       "852        40,2827315         -3,9120264      NaN         NaN  "
      ]
     },
     "execution_count": 38,
     "metadata": {},
     "output_type": "execute_result"
    }
   ],
   "source": [
    "filtered_ds = ds[ds['level5'] =='Arroyomolinos (Madrid)']\n",
    "filtered_ds.head()\n"
   ]
  },
  {
   "cell_type": "code",
   "execution_count": 39,
   "id": "62e5e32e",
   "metadata": {},
   "outputs": [
    {
     "name": "stdout",
     "output_type": "stream",
     "text": [
      "294541.59854014596\n"
     ]
    }
   ],
   "source": [
    "avg_column_name = filtered_ds['price'].mean()\n",
    "print(avg_column_name)"
   ]
  },
  {
   "attachments": {},
   "cell_type": "markdown",
   "id": "concerned-radical",
   "metadata": {},
   "source": [
    "#### Exercise 08. Plot the histogram of prices for the population (level5 column) of \"Arroyomolinos (Madrid)\" and explain what you observe (★★☆)\n",
    "\n",
    "Print the histogram of the prices and write in the Markdown cell a brief analysis about the plot."
   ]
  },
  {
   "cell_type": "code",
   "execution_count": 40,
   "id": "sudden-message",
   "metadata": {},
   "outputs": [
    {
     "data": {
      "image/png": "[encoded data removed]",
      "text/plain": [
       "<Figure size 640x480 with 1 Axes>"
      ]
     },
     "metadata": {},
     "output_type": "display_data"
    }
   ],
   "source": [
    "import matplotlib.pyplot as plt\n",
    "filtered_ds['price'].hist()\n",
    "plt.show()"
   ]
  },
  {
   "cell_type": "markdown",
   "id": "f950fdc2",
   "metadata": {},
   "source": [
    "I notice that most homes are worth between $200,000 and $400,000. \n",
    "There are a few homes in the $400,000 to $600,000 range. \n",
    "and there are less than 2 homes under $100,000 "
   ]
  },
  {
   "attachments": {},
   "cell_type": "markdown",
   "id": "impressed-combination",
   "metadata": {},
   "source": [
    "**TODO: Markdown**. To write here, double-click on this cell, remove this content and place the text you want to write. Then, execute the cell."
   ]
  },
  {
   "attachments": {},
   "cell_type": "markdown",
   "id": "actual-edinburgh",
   "metadata": {},
   "source": [
    "#### Exercise 09. Are the average prices of \"Valdemorillo\" and \"Galapagar\" the same? (★★☆)\n",
    "\n",
    "Print both average prices and then write a conclusion about them."
   ]
  },
  {
   "cell_type": "code",
   "execution_count": 41,
   "id": "numeric-commerce",
   "metadata": {},
   "outputs": [
    {
     "name": "stdout",
     "output_type": "stream",
     "text": [
      "363860.2931034483\n",
      "360063.20238095237\n"
     ]
    }
   ],
   "source": [
    "valdemorillo_ds = ds[ds['level5'] =='Valdemorillo']\n",
    "valdemorillo_ds.head()\n",
    "avg_column_name = valdemorillo_ds['price'].mean()\n",
    "print(avg_column_name)\n",
    "\n",
    "\n",
    "\n",
    "galapagar_ds = ds[ds['level5'] =='Galapagar']\n",
    "galapagar_ds.head()\n",
    "avg_column_name = galapagar_ds['price'].mean()\n",
    "print(avg_column_name)"
   ]
  },
  {
   "cell_type": "code",
   "execution_count": 42,
   "id": "60861e80",
   "metadata": {},
   "outputs": [
    {
     "ename": "SyntaxError",
     "evalue": "invalid syntax (2109565771.py, line 1)",
     "output_type": "error",
     "traceback": [
      "\u001b[0;36m  Cell \u001b[0;32mIn[42], line 1\u001b[0;36m\u001b[0m\n\u001b[0;31m    The average homes of Valdemorillo are about 3800 more expensive than the homes in Galapagar.\u001b[0m\n\u001b[0m        ^\u001b[0m\n\u001b[0;31mSyntaxError\u001b[0m\u001b[0;31m:\u001b[0m invalid syntax\n"
     ]
    }
   ],
   "source": [
    "The average homes of Valdemorillo are about 3800 more expensive than the homes in Galapagar. "
   ]
  },
  {
   "attachments": {},
   "cell_type": "markdown",
   "id": "lonely-article",
   "metadata": {},
   "source": [
    "#### Exercise 10. Are the average prices per square meter (price/m2) of \"Valdemorillo\" and \"Galapagar\" the same? (★★☆)\n",
    "\n",
    "Print both average prices and then write a conclusion about it.\n",
    "\n",
    "Hint: Create a new column called `pps` (price per square meter) and then analyze the values."
   ]
  },
  {
   "cell_type": "code",
   "execution_count": 13,
   "id": "hourly-globe",
   "metadata": {},
   "outputs": [
    {
     "name": "stdout",
     "output_type": "stream",
     "text": [
      "1317.9502109024986\n",
      "1606.3240303094024\n"
     ]
    }
   ],
   "source": [
    "ds['pps'] = ds['price'] / ds['surface']\n",
    "ds.head()\n",
    "\n",
    "\n",
    "valdemorillo_ds = ds[ds['level5'] =='Valdemorillo']\n",
    "valdemorillo_ds.head()\n",
    "avg_column_name = valdemorillo_ds['pps'].mean()\n",
    "print(avg_column_name)\n",
    "\n",
    "\n",
    "\n",
    "galapagar_ds = ds[ds['level5'] =='Galapagar']\n",
    "galapagar_ds.head()\n",
    "avg_column_name = galapagar_ds['pps'].mean()\n",
    "print(avg_column_name)"
   ]
  },
  {
   "attachments": {},
   "cell_type": "markdown",
   "id": "pleasant-invite",
   "metadata": {},
   "source": [
    "#### Exercise 11. Analyze the relation between the surface and the price of the houses (★★☆)\n",
    "\n",
    "Hint: You can make a `scatter plot`, then write a conclusion about it."
   ]
  },
  {
   "cell_type": "code",
   "execution_count": 14,
   "id": "common-drilling",
   "metadata": {},
   "outputs": [
    {
     "data": {
      "image/png": "[encoded data removed]",
      "text/plain": [
       "<Figure size 640x480 with 1 Axes>"
      ]
     },
     "metadata": {},
     "output_type": "display_data"
    }
   ],
   "source": [
    "import matplotlib.pyplot as plt\n",
    "\n",
    "ds.plot.scatter(x='surface', y='price')\n",
    "plt.show()"
   ]
  },
  {
   "cell_type": "markdown",
   "id": "ea8e477b",
   "metadata": {},
   "source": [
    "this Scatter plot shows surface has little to no effect on the price of the home \n"
   ]
  },
  {
   "attachments": {},
   "cell_type": "markdown",
   "id": "ahead-liquid",
   "metadata": {},
   "source": [
    "**TODO: Markdown**. To write here, double-click on this cell, remove this content and place the text you want to write. Then, execute the cell."
   ]
  },
  {
   "attachments": {},
   "cell_type": "markdown",
   "id": "coordinate-sunrise",
   "metadata": {},
   "source": [
    "#### Exercise 12. How many real estate agencies does the dataset contain? (★★☆)\n",
    "\n",
    "Print the obtained value."
   ]
  },
  {
   "cell_type": "code",
   "execution_count": 15,
   "id": "valid-honolulu",
   "metadata": {},
   "outputs": [
    {
     "name": "stdout",
     "output_type": "stream",
     "text": [
      "Number of real estate agencies is 1821\n",
      "1822\n"
     ]
    }
   ],
   "source": [
    "realEstateagencies = ds['realEstate_name'].nunique()\n",
    "print(\"Number of real estate agencies is\",realEstateagencies )\n",
    "\n",
    "number = len(ds['realEstate_name'].unique())\n",
    "print(number)"
   ]
  },
  {
   "attachments": {},
   "cell_type": "markdown",
   "id": "binding-ebony",
   "metadata": {},
   "source": [
    "#### Exercise 13. Which is the population (level5 column) that contains the most houses? (★★☆)\n",
    "\n",
    "Print both the population and the number of houses."
   ]
  },
  {
   "cell_type": "code",
   "execution_count": 16,
   "id": "static-perry",
   "metadata": {},
   "outputs": [
    {
     "data": {
      "text/plain": [
       "level5\n",
       " Madrid Capital         6643\n",
       "Alcalá de Henares        525\n",
       "Las Rozas de Madrid      383\n",
       "Móstoles                 325\n",
       "Getafe                   290\n",
       "                        ... \n",
       "Fresno de Torote           1\n",
       "Pinilla del Valle          1\n",
       "Rascafría                  1\n",
       "La Hiruela                 1\n",
       "Montejo de la Sierra       1\n",
       "Name: count, Length: 168, dtype: int64"
      ]
     },
     "execution_count": 16,
     "metadata": {},
     "output_type": "execute_result"
    }
   ],
   "source": [
    "ds['level5'].value_counts()\n"
   ]
  },
  {
   "attachments": {},
   "cell_type": "markdown",
   "id": "entire-classification",
   "metadata": {},
   "source": [
    "#### Exercise 14. Now let's work with the \"south belt\" of Madrid. Make a subset of the original DataFrame that contains the following populations (level5 column): \"Fuenlabrada\", \"Leganés\", \"Getafe\", \"Alcorcón\" (★★☆)\n",
    "\n",
    "Hint: Filter the original DataFrame using the column `level5` and the function `isin`."
   ]
  },
  {
   "cell_type": "code",
   "execution_count": 43,
   "id": "binary-input",
   "metadata": {},
   "outputs": [
    {
     "data": {
      "text/plain": [
       "<bound method NDFrame.head of        Unnamed: 0  id_realEstates  isNew  \\\n",
       "1               2       153867863  False   \n",
       "3               4       152776331  False   \n",
       "85             86       153152077  False   \n",
       "94             95       153995577  False   \n",
       "109           110       153586414  False   \n",
       "...           ...             ...    ...   \n",
       "15275       15276       153903887  False   \n",
       "15291       15292       151697757  False   \n",
       "15305       15306       153902389  False   \n",
       "15322       15323       153871864  False   \n",
       "15325       15326       153901467  False   \n",
       "\n",
       "                                 realEstate_name  phone_realEstate  \\\n",
       "1              tecnocasa fuenlabrada ferrocarril       916358736.0   \n",
       "3              tecnocasa fuenlabrada ferrocarril       916358736.0   \n",
       "85                       sinergical inmobiliaria               NaN   \n",
       "94                               viviendas365com       911226014.0   \n",
       "109              area uno asesores inmobiliarios       912664081.0   \n",
       "...                                          ...               ...   \n",
       "15275  aliseda servicios de gestion inmobiliaria       911368198.0   \n",
       "15291                                    unipiso       912788631.0   \n",
       "15305                             jadein ferrero       914871639.0   \n",
       "15322                          gestion comercial       911220662.0   \n",
       "15325                              montehogar 68       911790675.0   \n",
       "\n",
       "                                            url_inmueble  rooms  bathrooms  \\\n",
       "1      https://www.fotocasa.es/es/comprar/vivienda/ma...    3.0        1.0   \n",
       "3      https://www.fotocasa.es/es/comprar/vivienda/ma...    3.0        1.0   \n",
       "85     https://www.fotocasa.es/es/comprar/vivienda/le...    1.0        1.0   \n",
       "94     https://www.fotocasa.es/es/comprar/vivienda/le...    3.0        2.0   \n",
       "109    https://www.fotocasa.es/es/comprar/vivienda/ma...    3.0        3.0   \n",
       "...                                                  ...    ...        ...   \n",
       "15275  https://www.fotocasa.es/es/comprar/vivienda/al...    3.0        1.0   \n",
       "15291  https://www.fotocasa.es/es/comprar/vivienda/al...    3.0        2.0   \n",
       "15305  https://www.fotocasa.es/es/comprar/vivienda/ma...    3.0        2.0   \n",
       "15322  https://www.fotocasa.es/es/comprar/vivienda/ma...    3.0        1.0   \n",
       "15325  https://www.fotocasa.es/es/comprar/vivienda/ma...    2.0        2.0   \n",
       "\n",
       "       surface   price                          date  \\\n",
       "1          NaN   89000  2019-12-28T18:27:15.9975027Z   \n",
       "3         86.0   89000  2019-12-28T18:27:15.9975027Z   \n",
       "85        50.0  107000   2019-12-28T18:30:53.960102Z   \n",
       "94       120.0  320000   2019-12-28T18:30:53.960102Z   \n",
       "109      142.0  425000  2019-12-28T18:32:32.5337942Z   \n",
       "...        ...     ...                           ...   \n",
       "15275     78.0  138000          2019-12-17T19:02:00Z   \n",
       "15291    110.0  279000          2019-12-17T18:57:00Z   \n",
       "15305     85.0  170000          2019-12-17T18:43:00Z   \n",
       "15322     91.0  112000          2019-12-17T18:25:00Z   \n",
       "15325     99.0  215000          2019-12-17T18:24:00Z   \n",
       "\n",
       "                                             description  \\\n",
       "1      \"\"Agencia inmobiliaria de FUENLABRADA - zona F...   \n",
       "3      Agencia inmobiliaria de FUENLABRADA - zona Fue...   \n",
       "85     ¡oportunidad! vivienda de obra nueva, local ad...   \n",
       "94     VIVIENDAS365-VENDE- Hermosa Vivienda en el Bar...   \n",
       "109    AREA UNO asesores inmobiliarios oficina de las...   \n",
       "...                                                  ...   \n",
       "15275  Piso en Fuenlabrada, Madrid. Dispone de una su...   \n",
       "15291  QUIERES VIVIR EN PLENO CENTRO,  a tan sólo 2 m...   \n",
       "15305  JADEIN FERRERO S.L vende excelente vivienda en...   \n",
       "15322  ´´´´´´´´´´´´´´´´´´´´´´´´´´´´´´´´´´´´´´´´´´´´SI...   \n",
       "15325  Extupendo ATICO  y magnificas viviendas muy am...   \n",
       "\n",
       "                                                 address country  level1  \\\n",
       "1                       Calle Polvoranca, 6, Fuenlabrada  España  Madrid   \n",
       "3                         Barrio San Andres, Fuenlabrada  España  Madrid   \n",
       "85                   Avenida Carabancheles, 18, Alcorcón  España  Madrid   \n",
       "94                            Avenida Los Pinos, Leganés  España  Madrid   \n",
       "109                                             Alcorcón  España  Madrid   \n",
       "...                                                  ...     ...     ...   \n",
       "15275  Urbanización Urbanización Parque Miraflores, 5...  España  Madrid   \n",
       "15291                                            Leganés  España  Madrid   \n",
       "15305                                        Fuenlabrada  España  Madrid   \n",
       "15322            Calle Dr. Miguel de Aguado, Fuenlabrada  España  Madrid   \n",
       "15325           Calle de Luis Sauquillo, 77, Fuenlabrada  España  Madrid   \n",
       "\n",
       "       level2              level3                level4       level5 level6  \\\n",
       "1      Madrid  Zona Sur de Madrid  Fuenlabrada, Zona de  Fuenlabrada    NaN   \n",
       "3      Madrid  Zona Sur de Madrid  Fuenlabrada, Zona de  Fuenlabrada    NaN   \n",
       "85     Madrid       Zona Suroeste     Alcorcón, Zona de     Alcorcón    NaN   \n",
       "94     Madrid  Zona Sur de Madrid      Leganés, Zona de      Leganés    NaN   \n",
       "109    Madrid       Zona Suroeste     Alcorcón, Zona de     Alcorcón    NaN   \n",
       "...       ...                 ...                   ...          ...    ...   \n",
       "15275  Madrid  Zona Sur de Madrid  Fuenlabrada, Zona de  Fuenlabrada    NaN   \n",
       "15291  Madrid  Zona Sur de Madrid      Leganés, Zona de      Leganés    NaN   \n",
       "15305  Madrid  Zona Sur de Madrid  Fuenlabrada, Zona de  Fuenlabrada    NaN   \n",
       "15322  Madrid  Zona Sur de Madrid  Fuenlabrada, Zona de  Fuenlabrada    NaN   \n",
       "15325  Madrid  Zona Sur de Madrid  Fuenlabrada, Zona de  Fuenlabrada    NaN   \n",
       "\n",
       "                                          level7         level8  \\\n",
       "1                                         Centro            NaN   \n",
       "3                                         Centro            NaN   \n",
       "85                                        Centro  Casco Antiguo   \n",
       "94     Valdepelayo - Montepinos - Arroyo Culebro            NaN   \n",
       "109               Prado Santo Domingo - Ensanche            NaN   \n",
       "...                                          ...            ...   \n",
       "15275                                    Loranca            NaN   \n",
       "15291                          Centro de Leganés            NaN   \n",
       "15305                 Fuenlabrada II - El Molino            NaN   \n",
       "15322                                     Centro            NaN   \n",
       "15325                      El Arroyo - La Fuente            NaN   \n",
       "\n",
       "                                      upperLevel  countryId  level1Id  \\\n",
       "1                                         Centro          0         0   \n",
       "3                                         Centro          0         0   \n",
       "85                                 Casco Antiguo          0         0   \n",
       "94     Valdepelayo - Montepinos - Arroyo Culebro          0         0   \n",
       "109               Prado Santo Domingo - Ensanche          0         0   \n",
       "...                                          ...        ...       ...   \n",
       "15275                                    Loranca          0         0   \n",
       "15291                          Centro de Leganés          0         0   \n",
       "15305                 Fuenlabrada II - El Molino          0         0   \n",
       "15322                                     Centro          0         0   \n",
       "15325                      El Arroyo - La Fuente          0         0   \n",
       "\n",
       "       level2Id  level3Id  level4Id  level5Id  level6Id  level7Id  level8Id  \\\n",
       "1             0         0         0         0         0         0         0   \n",
       "3             0         0         0         0         0         0         0   \n",
       "85            0         0         0         0         0         0         0   \n",
       "94            0         0         0         0         0         0         0   \n",
       "109           0         0         0         0         0         0         0   \n",
       "...         ...       ...       ...       ...       ...       ...       ...   \n",
       "15275         0         0         0         0         0         0         0   \n",
       "15291         0         0         0         0         0         0         0   \n",
       "15305         0         0         0         0         0         0         0   \n",
       "15322         0         0         0         0         0         0         0   \n",
       "15325         0         0         0         0         0         0         0   \n",
       "\n",
       "       accuracy          latitude          longitude  zipCode  customZone  \n",
       "1             1          40,28674           -3,79351      NaN         NaN  \n",
       "3             0  40,2853785786438  -3,79508142135624      NaN         NaN  \n",
       "85            1          40,35059           -3,82693      NaN         NaN  \n",
       "94            0          40,31933           -3,77574      NaN         NaN  \n",
       "109           0        40,3313411         -3,8313868      NaN         NaN  \n",
       "...         ...               ...                ...      ...         ...  \n",
       "15275         1          40,31381           -3,83733      NaN         NaN  \n",
       "15291         0        40,3259051           -3,76318      NaN         NaN  \n",
       "15305         0        40,2882193         -3,8098617      NaN         NaN  \n",
       "15322         0          40,28282           -3,78892      NaN         NaN  \n",
       "15325         1          40,28062           -3,79869      NaN         NaN  \n",
       "\n",
       "[907 rows x 37 columns]>"
      ]
     },
     "execution_count": 43,
     "metadata": {},
     "output_type": "execute_result"
    }
   ],
   "source": [
    "southbelt_ds = ds[ds['level5'].isin(['Fuenlabrada', 'Leganés', 'Getafe', 'Alcorcón'])]\n",
    "southbelt_ds.head"
   ]
  },
  {
   "attachments": {},
   "cell_type": "markdown",
   "id": "severe-fisher",
   "metadata": {},
   "source": [
    "#### Exercise 15. Make a bar plot of the median of the prices and explain what you observe (you must use the subset obtained in Exercise 14) (★★★)\n",
    "\n",
    "Print the bar of the median of the prices and write in the Markdown cell a brief analysis about the plot."
   ]
  },
  {
   "cell_type": "code",
   "execution_count": 18,
   "id": "lyric-bunch",
   "metadata": {},
   "outputs": [
    {
     "data": {
      "image/png": "[encoded data removed]",
      "text/plain": [
       "<Figure size 640x480 with 1 Axes>"
      ]
     },
     "metadata": {},
     "output_type": "display_data"
    }
   ],
   "source": [
    "import matplotlib.pyplot as plt\n",
    "median = southbelt_ds.groupby('level5')['price'].median()\n",
    "median.plot.bar(x='price', y='popluation')\n",
    "plt.show()"
   ]
  },
  {
   "cell_type": "code",
   "execution_count": null,
   "id": "abe18c25",
   "metadata": {},
   "outputs": [],
   "source": [
    "This plot bar show in level 5 for these populations. Getafe is the most expensive and the least expensive is Fuenlabrada"
   ]
  },
  {
   "attachments": {},
   "cell_type": "markdown",
   "id": "sublime-newspaper",
   "metadata": {},
   "source": [
    "**TODO: Markdown**. To write here, double-click on this cell, remove this content and place the text you want to write. Then, execute the cell."
   ]
  },
  {
   "attachments": {},
   "cell_type": "markdown",
   "id": "speaking-diamond",
   "metadata": {},
   "source": [
    "#### Exercise 16. Calculate the sample mean and variance of the variables: price, rooms, surface area and bathrooms (you must use the subset obtained in Exercise 14) (★★★)\n",
    "\n",
    "Print both values for each variable."
   ]
  },
  {
   "cell_type": "code",
   "execution_count": 19,
   "id": "random-feeling",
   "metadata": {},
   "outputs": [
    {
     "name": "stdout",
     "output_type": "stream",
     "text": [
      "the price mean is 223094.48070562293\n",
      "the room mean is 3.0177383592017737\n",
      "the surface mean is 111.75222363405337\n",
      "the bathroom mean is 1.633221850613155\n",
      "the price variance is 14921367508.04902\n",
      "the rooms variance is 0.7188858892927542\n",
      "the surface variance is 4263.051760316337\n",
      "the bathroom variance is 0.5717968625577321\n"
     ]
    }
   ],
   "source": [
    "price_mean = southbelt_ds['price'].mean()\n",
    "print('the price mean is', price_mean)\n",
    "\n",
    "room_mean = southbelt_ds['rooms'].mean()\n",
    "print(\"the room mean is\", room_mean)\n",
    "\n",
    "surface_mean = southbelt_ds['surface'].mean()\n",
    "print(\"the surface mean is\", surface_mean)\n",
    "\n",
    "bathroom_mean = southbelt_ds['bathrooms'].mean()\n",
    "print(\"the bathroom mean is\", bathroom_mean)\n",
    "\n",
    "\n",
    "price_var = southbelt_ds['price'].var()\n",
    "print(\"the price variance is\", price_var)\n",
    "\n",
    "rooms_var = southbelt_ds['rooms'].var()\n",
    "print(\"the rooms variance is\", rooms_var)\n",
    "\n",
    "surface_var = southbelt_ds['surface'].var()\n",
    "print(\"the surface variance is\", surface_var)\n",
    "\n",
    "bathroom_var = southbelt_ds['bathrooms'].var()\n",
    "print(\"the bathroom variance is\", bathroom_var)\n",
    "\n",
    "\n",
    "\n",
    "\n"
   ]
  },
  {
   "attachments": {},
   "cell_type": "markdown",
   "id": "revolutionary-matrix",
   "metadata": {},
   "source": [
    "#### Exercise 17. What is the most expensive house in each population? You must use the subset obtained in Exercise 14 (★★☆)\n",
    "\n",
    "Print both the address and the price of the selected house of each population. You can print a DataFrame or a single line for each population."
   ]
  },
  {
   "cell_type": "code",
   "execution_count": 20,
   "id": "fifteen-browse",
   "metadata": {},
   "outputs": [
    {
     "data": {
      "text/html": [
       "<div>\n",
       "<style scoped>\n",
       "    .dataframe tbody tr th:only-of-type {\n",
       "        vertical-align: middle;\n",
       "    }\n",
       "\n",
       "    .dataframe tbody tr th {\n",
       "        vertical-align: top;\n",
       "    }\n",
       "\n",
       "    .dataframe thead th {\n",
       "        text-align: right;\n",
       "    }\n",
       "</style>\n",
       "<table border=\"1\" class=\"dataframe\">\n",
       "  <thead>\n",
       "    <tr style=\"text-align: right;\">\n",
       "      <th></th>\n",
       "      <th>Unnamed: 0</th>\n",
       "      <th>id_realEstates</th>\n",
       "      <th>isNew</th>\n",
       "      <th>realEstate_name</th>\n",
       "      <th>phone_realEstate</th>\n",
       "      <th>url_inmueble</th>\n",
       "      <th>rooms</th>\n",
       "      <th>bathrooms</th>\n",
       "      <th>surface</th>\n",
       "      <th>price</th>\n",
       "      <th>date</th>\n",
       "      <th>description</th>\n",
       "      <th>address</th>\n",
       "      <th>country</th>\n",
       "      <th>level1</th>\n",
       "      <th>level2</th>\n",
       "      <th>level3</th>\n",
       "      <th>level4</th>\n",
       "      <th>level5</th>\n",
       "      <th>level6</th>\n",
       "      <th>level7</th>\n",
       "      <th>level8</th>\n",
       "      <th>upperLevel</th>\n",
       "      <th>countryId</th>\n",
       "      <th>level1Id</th>\n",
       "      <th>level2Id</th>\n",
       "      <th>level3Id</th>\n",
       "      <th>level4Id</th>\n",
       "      <th>level5Id</th>\n",
       "      <th>level6Id</th>\n",
       "      <th>level7Id</th>\n",
       "      <th>level8Id</th>\n",
       "      <th>accuracy</th>\n",
       "      <th>latitude</th>\n",
       "      <th>longitude</th>\n",
       "      <th>zipCode</th>\n",
       "      <th>customZone</th>\n",
       "      <th>pps</th>\n",
       "    </tr>\n",
       "  </thead>\n",
       "  <tbody>\n",
       "    <tr>\n",
       "      <th>5585</th>\n",
       "      <td>5586</td>\n",
       "      <td>153275915</td>\n",
       "      <td>False</td>\n",
       "      <td>100 home red inmobiliaria</td>\n",
       "      <td>912669623.0</td>\n",
       "      <td>https://www.fotocasa.es/es/comprar/vivienda/ca...</td>\n",
       "      <td>6.0</td>\n",
       "      <td>6.0</td>\n",
       "      <td>722.0</td>\n",
       "      <td>950000</td>\n",
       "      <td>2019-12-26T11:01:00Z</td>\n",
       "      <td>100% HOME RED INMOBILIARIA DE MOSTOLES VENDE M...</td>\n",
       "      <td>Alcorcón</td>\n",
       "      <td>España</td>\n",
       "      <td>Madrid</td>\n",
       "      <td>Madrid</td>\n",
       "      <td>Zona Suroeste</td>\n",
       "      <td>Alcorcón, Zona de</td>\n",
       "      <td>Alcorcón</td>\n",
       "      <td>NaN</td>\n",
       "      <td>Campodón - Ventorro del Cano</td>\n",
       "      <td>NaN</td>\n",
       "      <td>Campodón - Ventorro del Cano</td>\n",
       "      <td>0</td>\n",
       "      <td>0</td>\n",
       "      <td>0</td>\n",
       "      <td>0</td>\n",
       "      <td>0</td>\n",
       "      <td>0</td>\n",
       "      <td>0</td>\n",
       "      <td>0</td>\n",
       "      <td>0</td>\n",
       "      <td>0</td>\n",
       "      <td>40,3535169</td>\n",
       "      <td>-3,8664683</td>\n",
       "      <td>NaN</td>\n",
       "      <td>NaN</td>\n",
       "      <td>1315.789474</td>\n",
       "    </tr>\n",
       "    <tr>\n",
       "      <th>11561</th>\n",
       "      <td>11562</td>\n",
       "      <td>153660921</td>\n",
       "      <td>False</td>\n",
       "      <td>unna madrid</td>\n",
       "      <td>912780846.0</td>\n",
       "      <td>https://www.fotocasa.es/es/comprar/vivienda/va...</td>\n",
       "      <td>4.0</td>\n",
       "      <td>3.0</td>\n",
       "      <td>274.0</td>\n",
       "      <td>490000</td>\n",
       "      <td>2019-12-20T10:31:00Z</td>\n",
       "      <td>INTERHABITAT vende impresionante chalet unifam...</td>\n",
       "      <td>Calle de Paulo Freire, 5, Fuenlabrada</td>\n",
       "      <td>España</td>\n",
       "      <td>Madrid</td>\n",
       "      <td>Madrid</td>\n",
       "      <td>Zona Sur de Madrid</td>\n",
       "      <td>Fuenlabrada, Zona de</td>\n",
       "      <td>Fuenlabrada</td>\n",
       "      <td>NaN</td>\n",
       "      <td>Universidad - Hospital en Fuenlabrada</td>\n",
       "      <td>NaN</td>\n",
       "      <td>Universidad - Hospital en Fuenlabrada</td>\n",
       "      <td>0</td>\n",
       "      <td>0</td>\n",
       "      <td>0</td>\n",
       "      <td>0</td>\n",
       "      <td>0</td>\n",
       "      <td>0</td>\n",
       "      <td>0</td>\n",
       "      <td>0</td>\n",
       "      <td>0</td>\n",
       "      <td>1</td>\n",
       "      <td>40,28286</td>\n",
       "      <td>-3,81475</td>\n",
       "      <td>NaN</td>\n",
       "      <td>NaN</td>\n",
       "      <td>1788.321168</td>\n",
       "    </tr>\n",
       "    <tr>\n",
       "      <th>2881</th>\n",
       "      <td>2882</td>\n",
       "      <td>151105544</td>\n",
       "      <td>False</td>\n",
       "      <td>unna grupo inmobiliario</td>\n",
       "      <td>912665694.0</td>\n",
       "      <td>https://www.fotocasa.es/es/comprar/vivienda/ma...</td>\n",
       "      <td>6.0</td>\n",
       "      <td>4.0</td>\n",
       "      <td>600.0</td>\n",
       "      <td>1050000</td>\n",
       "      <td>2019-12-27T15:59:00Z</td>\n",
       "      <td>Edificio residencial, único en toda la zona su...</td>\n",
       "      <td>Getafe</td>\n",
       "      <td>España</td>\n",
       "      <td>Madrid</td>\n",
       "      <td>Madrid</td>\n",
       "      <td>Zona Sur de Madrid</td>\n",
       "      <td>Getafe, Zona de</td>\n",
       "      <td>Getafe</td>\n",
       "      <td>NaN</td>\n",
       "      <td>San Isidro</td>\n",
       "      <td>NaN</td>\n",
       "      <td>San Isidro</td>\n",
       "      <td>0</td>\n",
       "      <td>0</td>\n",
       "      <td>0</td>\n",
       "      <td>0</td>\n",
       "      <td>0</td>\n",
       "      <td>0</td>\n",
       "      <td>0</td>\n",
       "      <td>0</td>\n",
       "      <td>0</td>\n",
       "      <td>0</td>\n",
       "      <td>40,302820239187</td>\n",
       "      <td>-3,7281704612835</td>\n",
       "      <td>NaN</td>\n",
       "      <td>NaN</td>\n",
       "      <td>1750.000000</td>\n",
       "    </tr>\n",
       "    <tr>\n",
       "      <th>10412</th>\n",
       "      <td>10413</td>\n",
       "      <td>152251506</td>\n",
       "      <td>False</td>\n",
       "      <td>bafre gestion y servicios inmobiliarios</td>\n",
       "      <td>910752245.0</td>\n",
       "      <td>https://www.fotocasa.es/es/comprar/vivienda/co...</td>\n",
       "      <td>6.0</td>\n",
       "      <td>5.0</td>\n",
       "      <td>360.0</td>\n",
       "      <td>650000</td>\n",
       "      <td>2019-12-21T16:00:00Z</td>\n",
       "      <td>Estupendo chalet pareado de lujo en venta en L...</td>\n",
       "      <td>Avenida Reina Sofía, Leganés</td>\n",
       "      <td>España</td>\n",
       "      <td>Madrid</td>\n",
       "      <td>Madrid</td>\n",
       "      <td>Zona Sur de Madrid</td>\n",
       "      <td>Leganés, Zona de</td>\n",
       "      <td>Leganés</td>\n",
       "      <td>NaN</td>\n",
       "      <td>Leganés Norte</td>\n",
       "      <td>NaN</td>\n",
       "      <td>Leganés Norte</td>\n",
       "      <td>0</td>\n",
       "      <td>0</td>\n",
       "      <td>0</td>\n",
       "      <td>0</td>\n",
       "      <td>0</td>\n",
       "      <td>0</td>\n",
       "      <td>0</td>\n",
       "      <td>0</td>\n",
       "      <td>0</td>\n",
       "      <td>0</td>\n",
       "      <td>40,3423636291504</td>\n",
       "      <td>-3,74814414978027</td>\n",
       "      <td>NaN</td>\n",
       "      <td>NaN</td>\n",
       "      <td>1805.555556</td>\n",
       "    </tr>\n",
       "  </tbody>\n",
       "</table>\n",
       "</div>"
      ],
      "text/plain": [
       "       Unnamed: 0  id_realEstates  isNew  \\\n",
       "5585         5586       153275915  False   \n",
       "11561       11562       153660921  False   \n",
       "2881         2882       151105544  False   \n",
       "10412       10413       152251506  False   \n",
       "\n",
       "                               realEstate_name  phone_realEstate  \\\n",
       "5585                 100 home red inmobiliaria       912669623.0   \n",
       "11561                              unna madrid       912780846.0   \n",
       "2881                   unna grupo inmobiliario       912665694.0   \n",
       "10412  bafre gestion y servicios inmobiliarios       910752245.0   \n",
       "\n",
       "                                            url_inmueble  rooms  bathrooms  \\\n",
       "5585   https://www.fotocasa.es/es/comprar/vivienda/ca...    6.0        6.0   \n",
       "11561  https://www.fotocasa.es/es/comprar/vivienda/va...    4.0        3.0   \n",
       "2881   https://www.fotocasa.es/es/comprar/vivienda/ma...    6.0        4.0   \n",
       "10412  https://www.fotocasa.es/es/comprar/vivienda/co...    6.0        5.0   \n",
       "\n",
       "       surface    price                  date  \\\n",
       "5585     722.0   950000  2019-12-26T11:01:00Z   \n",
       "11561    274.0   490000  2019-12-20T10:31:00Z   \n",
       "2881     600.0  1050000  2019-12-27T15:59:00Z   \n",
       "10412    360.0   650000  2019-12-21T16:00:00Z   \n",
       "\n",
       "                                             description  \\\n",
       "5585   100% HOME RED INMOBILIARIA DE MOSTOLES VENDE M...   \n",
       "11561  INTERHABITAT vende impresionante chalet unifam...   \n",
       "2881   Edificio residencial, único en toda la zona su...   \n",
       "10412  Estupendo chalet pareado de lujo en venta en L...   \n",
       "\n",
       "                                     address country  level1  level2  \\\n",
       "5585                                Alcorcón  España  Madrid  Madrid   \n",
       "11561  Calle de Paulo Freire, 5, Fuenlabrada  España  Madrid  Madrid   \n",
       "2881                                  Getafe  España  Madrid  Madrid   \n",
       "10412           Avenida Reina Sofía, Leganés  España  Madrid  Madrid   \n",
       "\n",
       "                   level3                level4       level5 level6  \\\n",
       "5585        Zona Suroeste     Alcorcón, Zona de     Alcorcón    NaN   \n",
       "11561  Zona Sur de Madrid  Fuenlabrada, Zona de  Fuenlabrada    NaN   \n",
       "2881   Zona Sur de Madrid       Getafe, Zona de       Getafe    NaN   \n",
       "10412  Zona Sur de Madrid      Leganés, Zona de      Leganés    NaN   \n",
       "\n",
       "                                      level7 level8  \\\n",
       "5585            Campodón - Ventorro del Cano    NaN   \n",
       "11561  Universidad - Hospital en Fuenlabrada    NaN   \n",
       "2881                              San Isidro    NaN   \n",
       "10412                          Leganés Norte    NaN   \n",
       "\n",
       "                                  upperLevel  countryId  level1Id  level2Id  \\\n",
       "5585            Campodón - Ventorro del Cano          0         0         0   \n",
       "11561  Universidad - Hospital en Fuenlabrada          0         0         0   \n",
       "2881                              San Isidro          0         0         0   \n",
       "10412                          Leganés Norte          0         0         0   \n",
       "\n",
       "       level3Id  level4Id  level5Id  level6Id  level7Id  level8Id  accuracy  \\\n",
       "5585          0         0         0         0         0         0         0   \n",
       "11561         0         0         0         0         0         0         1   \n",
       "2881          0         0         0         0         0         0         0   \n",
       "10412         0         0         0         0         0         0         0   \n",
       "\n",
       "               latitude          longitude  zipCode  customZone          pps  \n",
       "5585         40,3535169         -3,8664683      NaN         NaN  1315.789474  \n",
       "11561          40,28286           -3,81475      NaN         NaN  1788.321168  \n",
       "2881    40,302820239187   -3,7281704612835      NaN         NaN  1750.000000  \n",
       "10412  40,3423636291504  -3,74814414978027      NaN         NaN  1805.555556  "
      ]
     },
     "execution_count": 20,
     "metadata": {},
     "output_type": "execute_result"
    }
   ],
   "source": [
    "pricey_homes = southbelt_ds.sort_values(by=['level5','price'], ascending=[True,False])\n",
    "drop = pricey_homes.drop_duplicates(subset= 'level5',keep='first')\n",
    "#print(drop)\n",
    "drop.head()"
   ]
  },
  {
   "attachments": {},
   "cell_type": "markdown",
   "id": "activated-knight",
   "metadata": {},
   "source": [
    "#### Exercise 18. Normalize the variable of prices for each population and plot the 4 histograms in the same plot (you must use the subset obtained in Exercise 14) (★★★)\n",
    "\n",
    "For the normalization method, you can use the one you consider; there is not a single correct answer to this question. Print the plot and write in the Markdown cell a brief analysis about the plot.\n",
    "\n",
    "Hint: You can help yourself by reviewing the *multihist* demo of Matplotlib."
   ]
  },
  {
   "cell_type": "code",
   "execution_count": 38,
   "id": "civic-meditation",
   "metadata": {},
   "outputs": [
    {
     "name": "stderr",
     "output_type": "stream",
     "text": [
      "/tmp/ipykernel_14730/2285856493.py:11: SettingWithCopyWarning: \n",
      "A value is trying to be set on a copy of a slice from a DataFrame.\n",
      "Try using .loc[row_indexer,col_indexer] = value instead\n",
      "\n",
      "See the caveats in the documentation: https://pandas.pydata.org/pandas-docs/stable/user_guide/indexing.html#returning-a-view-versus-a-copy\n",
      "  southbelt_ds['normalized_price'] = normalized_data\n"
     ]
    },
    {
     "data": {
      "image/png": "[encoded data removed]",
      "text/plain": [
       "<Figure size 1000x600 with 1 Axes>"
      ]
     },
     "metadata": {},
     "output_type": "display_data"
    }
   ],
   "source": [
    "# Create function to normalize prices for each group\n",
    "def normalized_prices(group):\n",
    "    return (group - group.min()) / (group.max() - group.min())\n",
    "\n",
    "\n",
    "# Normalized price for each population\n",
    "normalized_data = southbelt_ds.groupby('level5')['price'].transform(normalized_prices)\n",
    "\n",
    "\n",
    "# Add normalized data back to the original DataFrame for plotting\n",
    "southbelt_ds['normalized_price'] = normalized_data\n",
    "\n",
    "# Plot histograms for normalized prices of each population\n",
    "plt.figure(figsize=(10, 6))\n",
    "for population, group in southbelt_ds.groupby('level5'):\n",
    "    plt.hist(group['normalized_price'], bins=20, alpha=0.5, label=population)\n",
    "plt.title('Normalized Price Distribution for Each Population')\n",
    "plt.xlabel('Normalized Price')\n",
    "plt.ylabel('Frequency')\n",
    "plt.legend()\n",
    "plt.grid(True)\n",
    "plt.show()\n"
   ]
  },
  {
   "attachments": {},
   "cell_type": "markdown",
   "id": "precise-heavy",
   "metadata": {},
   "source": [
    "**TODO: Markdown**. To write here, double-click on this cell, remove this content and place the text you want to write. Then, execute the cell."
   ]
  },
  {
   "attachments": {},
   "cell_type": "markdown",
   "id": "patent-jonathan",
   "metadata": {},
   "source": [
    "#### Exercise 19. What can you say about the price per square meter (price/m2) between the towns of \"Getafe\" and \"Alcorcón\"? You must use the subset obtained in Exercise 14 (★★☆)\n",
    "\n",
    "Hint: Create a new column called `pps` (price per square meter) and then analyze the values."
   ]
  },
  {
   "cell_type": "code",
   "execution_count": 24,
   "id": "initial-liverpool",
   "metadata": {},
   "outputs": [
    {
     "name": "stdout",
     "output_type": "stream",
     "text": [
      "2066.314949251463\n",
      "2239.302480199618\n"
     ]
    }
   ],
   "source": [
    "\n",
    "\n",
    "getafe_southbelt_ds = southbelt_ds[southbelt_ds['level5'] =='Getafe']\n",
    "getafe_southbelt_ds.head()\n",
    "avg_column_name1 = getafe_southbelt_ds['pps'].mean()\n",
    "print(avg_column_name1)\n",
    "\n",
    "\n",
    "\n",
    "alcocon_southbelt_ds = southbelt_ds[southbelt_ds['level5'] =='Alcorcón']\n",
    "alcocon_southbelt_ds.head()\n",
    "avg_column_name2 = alcocon_southbelt_ds['pps'].mean()\n",
    "print(avg_column_name2)\n",
    "\n"
   ]
  },
  {
   "cell_type": "code",
   "execution_count": null,
   "id": "fb0c9615",
   "metadata": {},
   "outputs": [],
   "source": [
    "the price per square feet in Getafe is about 1843 less than the homes that are in Alcorcón."
   ]
  },
  {
   "attachments": {},
   "cell_type": "markdown",
   "id": "enhanced-moscow",
   "metadata": {},
   "source": [
    "#### Exercise 20. Make the same plot for 4 different populations (level5 column) and rearrange them on the same graph. You must use the subset obtained in Exercise 14 (★★☆)\n",
    " \n",
    "Hint: Make a scatter plot of each population using subplots."
   ]
  },
  {
   "cell_type": "code",
   "execution_count": 31,
   "id": "accepting-airfare",
   "metadata": {},
   "outputs": [
    {
     "data": {
      "image/png": "[encoded data removed]",
      "text/plain": [
       "<Figure size 1000x800 with 4 Axes>"
      ]
     },
     "metadata": {},
     "output_type": "display_data"
    }
   ],
   "source": [
    "#'Fuenlabrada', 'Leganés', 'Getafe', 'Alcorcón'   \n",
    "#southbelt_ds\n",
    "fuenlabrada_x = southbelt_ds[southbelt_ds['level5']=='Fuenlabrada']['surface']\n",
    "leganes_x = southbelt_ds[southbelt_ds['level5']=='Leganés']['surface']\n",
    "getafe_x = southbelt_ds[southbelt_ds['level5']=='Getafe']['surface']\n",
    "alcorcon_x = southbelt_ds[southbelt_ds['level5']=='Alcorcón']['surface']\n",
    "\n",
    "\n",
    "fuenlabrada_y = southbelt_ds[southbelt_ds['level5']=='Fuenlabrada']['price']\n",
    "leganes_y = southbelt_ds[southbelt_ds['level5']=='Leganés']['price']\n",
    "getafe_y = southbelt_ds[southbelt_ds['level5']=='Getafe']['price']\n",
    "alcorcon_y = southbelt_ds[southbelt_ds['level5']=='Alcorcón']['price']\n",
    "\n",
    "\n",
    "# Create subplots\n",
    "f, axs = plt.subplots(2, 2, figsize=(10, 8))\n",
    "axs[0, 0].scatter(fuenlabrada_x, fuenlabrada_y, color='blue', label='Fuenlabrada')\n",
    "axs[0, 1].scatter(leganes_x, leganes_y, color='green', label='Leganés')\n",
    "axs[1, 0].scatter(getafe_x, getafe_y, color='red', label='Getafe')\n",
    "axs[1, 1].scatter(alcorcon_x, alcorcon_y, color='orange', label='Alcorcón')\n",
    "\n",
    "\n",
    "# Add labels and legend to each subplot\n",
    "for ax in axs.flat:\n",
    "    ax.set(xlabel='Surface', ylabel='Price')\n",
    "    ax.legend()\n",
    "\n",
    "# Adjust layout\n",
    "plt.tight_layout()\n",
    "\n",
    "# Show the plot\n",
    "plt.show()\n",
    "\n",
    "\n",
    "\n"
   ]
  },
  {
   "attachments": {},
   "cell_type": "markdown",
   "id": "blocked-effects",
   "metadata": {},
   "source": [
    "#### Exercise 21. Make a plot of the coordinates (latitude and longitude columns) of the south belt of Madrid by color of each population (you must use the subset obtained in Exercise 14) (★★★★)\n",
    "\n",
    "Execute the following cell, and then start coding in the next one. You must implement a simple code that transforms the coordinates columns in a Python dictionary (add more information if needed) and then add it to the map"
   ]
  },
  {
   "cell_type": "code",
   "execution_count": 17,
   "id": "headed-privacy",
   "metadata": {},
   "outputs": [
    {
     "data": {
      "application/vnd.jupyter.widget-view+json": {
       "model_id": "13d54b067fee4131b3b3f3107b07170e",
       "version_major": 2,
       "version_minor": 0
      },
      "text/plain": [
       "Map(center=[40.32, -3.8], controls=(ZoomControl(options=['position', 'zoom_in_text', 'zoom_in_title', 'zoom_ou…"
      ]
     },
     "execution_count": 17,
     "metadata": {},
     "output_type": "execute_result"
    }
   ],
   "source": [
    "from ipyleaflet import Map, basemaps, CircleMarker\n",
    "\n",
    "# Map centered on Madrid (40.4168° N, -3.7038° W)\n",
    "map = Map(\n",
    "    center=(40.32, -3.8),\n",
    "    zoom=12,  # Adjust zoom level for a closer view of Madrid\n",
    "    min_zoom=1,\n",
    "    max_zoom=20,\n",
    "    basemap=basemaps.OpenStreetMap.Mapnik\n",
    ")\n",
    "\n",
    "map\n",
    "\n",
    "\n"
   ]
  },
  {
   "cell_type": "code",
   "execution_count": 44,
   "id": "present-mistress",
   "metadata": {},
   "outputs": [
    {
     "name": "stderr",
     "output_type": "stream",
     "text": [
      "/tmp/ipykernel_8683/3759834202.py:5: SettingWithCopyWarning: \n",
      "A value is trying to be set on a copy of a slice from a DataFrame.\n",
      "Try using .loc[row_indexer,col_indexer] = value instead\n",
      "\n",
      "See the caveats in the documentation: https://pandas.pydata.org/pandas-docs/stable/user_guide/indexing.html#returning-a-view-versus-a-copy\n",
      "  subset_map_ds['latitude'] = subset_map_ds['latitude'].str.replace(',', '.')\n",
      "/tmp/ipykernel_8683/3759834202.py:6: SettingWithCopyWarning: \n",
      "A value is trying to be set on a copy of a slice from a DataFrame.\n",
      "Try using .loc[row_indexer,col_indexer] = value instead\n",
      "\n",
      "See the caveats in the documentation: https://pandas.pydata.org/pandas-docs/stable/user_guide/indexing.html#returning-a-view-versus-a-copy\n",
      "  subset_map_ds['longitude'] = subset_map_ds['longitude'].str.replace(',', '.')\n",
      "/tmp/ipykernel_8683/3759834202.py:9: SettingWithCopyWarning: \n",
      "A value is trying to be set on a copy of a slice from a DataFrame.\n",
      "Try using .loc[row_indexer,col_indexer] = value instead\n",
      "\n",
      "See the caveats in the documentation: https://pandas.pydata.org/pandas-docs/stable/user_guide/indexing.html#returning-a-view-versus-a-copy\n",
      "  subset_map_ds['latitude'] = subset_map_ds['latitude'].astype(float)\n",
      "/tmp/ipykernel_8683/3759834202.py:10: SettingWithCopyWarning: \n",
      "A value is trying to be set on a copy of a slice from a DataFrame.\n",
      "Try using .loc[row_indexer,col_indexer] = value instead\n",
      "\n",
      "See the caveats in the documentation: https://pandas.pydata.org/pandas-docs/stable/user_guide/indexing.html#returning-a-view-versus-a-copy\n",
      "  subset_map_ds['longitude'] = subset_map_ds['longitude'].astype(float)\n"
     ]
    }
   ],
   "source": [
    "# Select relevant columns\n",
    "subset_map_ds = southbelt_ds[['level5', 'latitude', 'longitude']]\n",
    "\n",
    "# Replace commas with periods in the latitude and longitude columns\n",
    "subset_map_ds['latitude'] = subset_map_ds['latitude'].str.replace(',', '.')\n",
    "subset_map_ds['longitude'] = subset_map_ds['longitude'].str.replace(',', '.')\n",
    "\n",
    "# Convert latitude and longitude columns to float\n",
    "subset_map_ds['latitude'] = subset_map_ds['latitude'].astype(float)\n",
    "subset_map_ds['longitude'] = subset_map_ds['longitude'].astype(float)\n"
   ]
  },
  {
   "cell_type": "code",
   "execution_count": 45,
   "id": "00212d0d",
   "metadata": {},
   "outputs": [
    {
     "data": {
      "application/vnd.jupyter.widget-view+json": {
       "model_id": "13d54b067fee4131b3b3f3107b07170e",
       "version_major": 2,
       "version_minor": 0
      },
      "text/plain": [
       "Map(bottom=395607.0, center=[40.40957492033851, -3.6502075195312504], controls=(ZoomControl(options=['position…"
      ]
     },
     "execution_count": 45,
     "metadata": {},
     "output_type": "execute_result"
    }
   ],
   "source": [
    "# Define colors for each population\n",
    "colors = {\n",
    "    \"Fuenlabrada\": \"blue\",\n",
    "    \"Leganés\": \"green\",\n",
    "    \"Getafe\": \"red\",\n",
    "    \"Alcorcón\": \"orange\"\n",
    "}\n",
    "# Add circle markers to the map for each population directly from the DataFrame\n",
    "for idx, row in subset_map_ds.iterrows():\n",
    "    population = row['level5']\n",
    "    coord = (row['latitude'], row['longitude'])\n",
    "    circle_marker = CircleMarker(\n",
    "        location=coord,\n",
    "        radius=5,  # Set radius of the circle marker\n",
    "        color=colors.get(population, 'gray'),  # Fallback color if population not in 'colors'\n",
    "        fill_color=colors.get(population, 'gray'),\n",
    "        fill_opacity=0.6\n",
    "    )\n",
    "    map.add_layer(circle_marker)\n",
    "# Display the map\n",
    "map\n"
   ]
  }
 ],
 "metadata": {
  "kernelspec": {
   "display_name": "Python 3",
   "language": "python",
   "name": "python3"
  },
  "language_info": {
   "codemirror_mode": {
    "name": "ipython",
    "version": 3
   },
   "file_extension": ".py",
   "mimetype": "text/x-python",
   "name": "python",
   "nbconvert_exporter": "python",
   "pygments_lexer": "ipython3",
   "version": "3.11.4"
  }
 },
 "nbformat": 4,
 "nbformat_minor": 5
}
